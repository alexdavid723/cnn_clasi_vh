{
 "cells": [
  {
   "cell_type": "markdown",
   "metadata": {
    "id": "MAig0eCeJKHF"
   },
   "source": [
    "## Transfer Learning\n",
    "- Wifi y LTE\n",
    "- pytorch\n"
   ]
  },
  {
   "cell_type": "code",
   "execution_count": 1,
   "metadata": {
    "colab": {
     "base_uri": "https://localhost:8080/"
    },
    "executionInfo": {
     "elapsed": 974,
     "status": "ok",
     "timestamp": 1612488041577,
     "user": {
      "displayName": "Ferdinand Pineda",
      "photoUrl": "https://lh3.googleusercontent.com/a-/AOh14GjrG3xS2QGKaIeH7RW-czRKnJCvLJUrK_P5vrk8zQ=s64",
      "userId": "15693529064082164265"
     },
     "user_tz": 300
    },
    "id": "ty13NnGiBw4q",
    "outputId": "53f3573e-cd17-4185-9ab1-a69f28c76b7b"
   },
   "outputs": [
    {
     "name": "stdout",
     "output_type": "stream",
     "text": [
      "ls: cannot access '/home/student1/notebook/dataset/imagenesvehiculos/': No such file or directory\n"
     ]
    }
   ],
   "source": [
    "#Listo las carpetas que contiene el dataset\n",
    "!ls '/home/student1/notebook/dataset/imagenesvehiculos/'"
   ]
  },
  {
   "cell_type": "code",
   "execution_count": 2,
   "metadata": {
    "colab": {
     "base_uri": "https://localhost:8080/"
    },
    "executionInfo": {
     "elapsed": 1213,
     "status": "ok",
     "timestamp": 1612488041823,
     "user": {
      "displayName": "Ferdinand Pineda",
      "photoUrl": "https://lh3.googleusercontent.com/a-/AOh14GjrG3xS2QGKaIeH7RW-czRKnJCvLJUrK_P5vrk8zQ=s64",
      "userId": "15693529064082164265"
     },
     "user_tz": 300
    },
    "id": "v4Q42tnyB_8E",
    "outputId": "34bf8c6d-7afb-4201-eca9-a190b017f24c"
   },
   "outputs": [
    {
     "name": "stdout",
     "output_type": "stream",
     "text": [
      "Sun Nov 24 13:29:05 2024       \n",
      "+---------------------------------------------------------------------------------------+\n",
      "| NVIDIA-SMI 535.129.01             Driver Version: 537.70       CUDA Version: 12.2     |\n",
      "|-----------------------------------------+----------------------+----------------------+\n",
      "| GPU  Name                 Persistence-M | Bus-Id        Disp.A | Volatile Uncorr. ECC |\n",
      "| Fan  Temp   Perf          Pwr:Usage/Cap |         Memory-Usage | GPU-Util  Compute M. |\n",
      "|                                         |                      |               MIG M. |\n",
      "|=========================================+======================+======================|\n",
      "|   0  NVIDIA GeForce RTX 4050 ...    On  | 00000000:01:00.0 Off |                  N/A |\n",
      "| N/A   37C    P8               1W /  85W |   3445MiB /  6141MiB |      0%      Default |\n",
      "|                                         |                      |                  N/A |\n",
      "+-----------------------------------------+----------------------+----------------------+\n",
      "                                                                                         \n",
      "+---------------------------------------------------------------------------------------+\n",
      "| Processes:                                                                            |\n",
      "|  GPU   GI   CI        PID   Type   Process name                            GPU Memory |\n",
      "|        ID   ID                                                             Usage      |\n",
      "|=======================================================================================|\n",
      "|    0   N/A  N/A    464877      C   /python3.12                               N/A      |\n",
      "|    0   N/A  N/A    483334      C   /python3.12                               N/A      |\n",
      "|    0   N/A  N/A    501243      C   /python3.12                               N/A      |\n",
      "+---------------------------------------------------------------------------------------+\n"
     ]
    }
   ],
   "source": [
    "#Verifico la capacidad de GPU\n",
    "!nvidia-smi"
   ]
  },
  {
   "cell_type": "code",
   "execution_count": 3,
   "metadata": {
    "executionInfo": {
     "elapsed": 4772,
     "status": "ok",
     "timestamp": 1612488045385,
     "user": {
      "displayName": "Ferdinand Pineda",
      "photoUrl": "https://lh3.googleusercontent.com/a-/AOh14GjrG3xS2QGKaIeH7RW-czRKnJCvLJUrK_P5vrk8zQ=s64",
      "userId": "15693529064082164265"
     },
     "user_tz": 300
    },
    "id": "KQUpHhrxCP7X"
   },
   "outputs": [],
   "source": [
    "#Librerias a importar\n",
    "import torch\n",
    "import torch.nn as nn\n",
    "import torch.nn.functional as F\n",
    "import torchvision\n",
    "import numpy as np\n",
    "import matplotlib.pyplot as plt\n",
    "from torchvision import datasets, models, transforms\n",
    "import time\n",
    "import copy"
   ]
  },
  {
   "cell_type": "code",
   "execution_count": null,
   "metadata": {
    "executionInfo": {
     "elapsed": 4771,
     "status": "ok",
     "timestamp": 1612488045387,
     "user": {
      "displayName": "Ferdinand Pineda",
      "photoUrl": "https://lh3.googleusercontent.com/a-/AOh14GjrG3xS2QGKaIeH7RW-czRKnJCvLJUrK_P5vrk8zQ=s64",
      "userId": "15693529064082164265"
     },
     "user_tz": 300
    },
    "id": "8cy9lvUf957J"
   },
   "outputs": [],
   "source": []
  },
  {
   "cell_type": "markdown",
   "metadata": {
    "id": "eF9tEgKHEW1b"
   },
   "source": [
    "Carga de las imágenes para entrenamiento\n",
    "\n",
    "La normalizacion de las imágenes utiliza datos de Imagenet [0.485, 0.456, 0.406],                       [0.229, 0.224, 0.225]\n",
    "\n",
    "Para val se añadio data augmentation, al tener pocas imagenes."
   ]
  },
  {
   "cell_type": "code",
   "execution_count": 4,
   "metadata": {
    "colab": {
     "base_uri": "https://localhost:8080/"
    },
    "executionInfo": {
     "elapsed": 4766,
     "status": "ok",
     "timestamp": 1612488045389,
     "user": {
      "displayName": "Ferdinand Pineda",
      "photoUrl": "https://lh3.googleusercontent.com/a-/AOh14GjrG3xS2QGKaIeH7RW-czRKnJCvLJUrK_P5vrk8zQ=s64",
      "userId": "15693529064082164265"
     },
     "user_tz": 300
    },
    "id": "N441-KKQCXZz",
    "outputId": "89b28d77-5d5f-4d95-ef29-de7591bfac3b"
   },
   "outputs": [
    {
     "name": "stdout",
     "output_type": "stream",
     "text": [
      "Dataset ImageFolder\n",
      "    Number of datapoints: 1800\n",
      "    Root location: /home/aloha/Lun9ntbk/imagenes_vehiculos/train\n",
      "    StandardTransform\n",
      "Transform: Compose(\n",
      "               RandomResizedCrop(size=(224, 224), scale=(0.08, 1.0), ratio=(0.75, 1.3333), interpolation=bilinear, antialias=True)\n",
      "               ToTensor()\n",
      "               Normalize(mean=[0.485, 0.456, 0.406], std=[0.229, 0.224, 0.225])\n",
      "           )\n",
      "Dataset ImageFolder\n",
      "    Number of datapoints: 300\n",
      "    Root location: /home/aloha/Lun9ntbk/imagenes_vehiculos/val\n",
      "    StandardTransform\n",
      "Transform: Compose(\n",
      "               RandomRotation(degrees=[-10.0, 10.0], interpolation=nearest, expand=False, fill=0)\n",
      "               RandomHorizontalFlip(p=0.5)\n",
      "               Resize(size=256, interpolation=bilinear, max_size=None, antialias=True)\n",
      "               CenterCrop(size=(224, 224))\n",
      "               ToTensor()\n",
      "               Normalize(mean=[0.485, 0.456, 0.406], std=[0.229, 0.224, 0.225])\n",
      "           )\n",
      "Dataset ImageFolder\n",
      "    Number of datapoints: 300\n",
      "    Root location: /home/aloha/Lun9ntbk/imagenes_vehiculos/test\n",
      "    StandardTransform\n",
      "Transform: Compose(\n",
      "               Resize(size=256, interpolation=bilinear, max_size=None, antialias=True)\n",
      "               CenterCrop(size=(224, 224))\n",
      "               ToTensor()\n",
      "               Normalize(mean=[0.485, 0.456, 0.406], std=[0.229, 0.224, 0.225])\n",
      "           )\n"
     ]
    }
   ],
   "source": [
    "# Cargar las imagenes - datset\n",
    "\n",
    "train_dataset = torchvision.datasets.ImageFolder('/home/aloha/Lun9ntbk/imagenes_vehiculos/train',\n",
    "                                                transform=transforms.Compose([\n",
    "                                                    transforms.RandomResizedCrop(224),\n",
    "                                                    transforms. ToTensor(),\n",
    "                                                    transforms.Normalize([0.485, 0.456, 0.406],\n",
    "                                                                         [0.229, 0.224, 0.225])  # De imagenet\n",
    "                                                    \n",
    "                                                ]))\n",
    "val_dataset = torchvision.datasets.ImageFolder('/home/aloha/Lun9ntbk/imagenes_vehiculos/val',\n",
    "                                                  transform=transforms.Compose([\n",
    "                                                  transforms.RandomRotation(10), \n",
    "                                                  transforms.RandomHorizontalFlip(),\n",
    "                                                  transforms.Resize(256),  \n",
    "                                                  transforms.CenterCrop(224),\n",
    "                                                    transforms.ToTensor(),\n",
    "                                                    transforms.Normalize([0.485, 0.456, 0.406],\n",
    "                                                                         [0.229, 0.224, 0.225])\n",
    "                                                    \n",
    "                                                ]))\n",
    "\n",
    "test_dataset = torchvision.datasets.ImageFolder('/home/aloha/Lun9ntbk/imagenes_vehiculos/test',\n",
    "                                              transform=transforms.Compose([\n",
    "                                                    transforms.Resize(256),\n",
    "                                                    transforms.CenterCrop(224),\n",
    "                                                    transforms. ToTensor(),\n",
    "                                                    transforms.Normalize([0.485, 0.456, 0.406],\n",
    "                                                                         [0.229, 0.224, 0.225])\n",
    "                                                    \n",
    "                                                ]))\n",
    "\n",
    "print(train_dataset)\n",
    "print(val_dataset)\n",
    "print(test_dataset)"
   ]
  },
  {
   "cell_type": "markdown",
   "metadata": {
    "id": "fMGIjLtZFE9s"
   },
   "source": [
    "Se prepara los \"loader\" para train, val y test. Se utilizara un batch_size = 32\n"
   ]
  },
  {
   "cell_type": "code",
   "execution_count": 5,
   "metadata": {},
   "outputs": [
    {
     "name": "stdout",
     "output_type": "stream",
     "text": [
      "Train: 1800\n"
     ]
    }
   ],
   "source": [
    "# imprimo un resumen de los datos\n",
    "print('Train:', len(train_dataset))"
   ]
  },
  {
   "cell_type": "code",
   "execution_count": 6,
   "metadata": {
    "executionInfo": {
     "elapsed": 4764,
     "status": "ok",
     "timestamp": 1612488045389,
     "user": {
      "displayName": "Ferdinand Pineda",
      "photoUrl": "https://lh3.googleusercontent.com/a-/AOh14GjrG3xS2QGKaIeH7RW-czRKnJCvLJUrK_P5vrk8zQ=s64",
      "userId": "15693529064082164265"
     },
     "user_tz": 300
    },
    "id": "veIpWVT6CXdO"
   },
   "outputs": [
    {
     "name": "stdout",
     "output_type": "stream",
     "text": [
      "Usando 16 workers para cargar datos.\n"
     ]
    }
   ],
   "source": [
    "import os\n",
    "from torch.utils.data.sampler import SubsetRandomSampler # type: ignore\n",
    "\n",
    "batch_size = 4\n",
    "learning_rate = 0.001\n",
    "num_epocas = 40\n",
    "step_log = 100\n",
    "num_workers = os.cpu_count()\n",
    "\n",
    "train_loader = torch.utils.data.DataLoader(dataset=train_dataset, \n",
    "                                          batch_size = batch_size, num_workers=num_workers,\n",
    "                                          shuffle=True)\n",
    "test_loader = torch.utils.data.DataLoader(dataset=test_dataset,\n",
    "                                         batch_size = batch_size, num_workers=num_workers,\n",
    "                                         shuffle=True)\n",
    "val_loader = torch.utils.data.DataLoader(dataset=val_dataset,\n",
    "                                         batch_size = batch_size, num_workers=num_workers,\n",
    "                                         shuffle=True)\n",
    "\n",
    "class_names = train_dataset.classes\n",
    "print(f\"Usando {num_workers} workers para cargar datos.\")"
   ]
  },
  {
   "cell_type": "markdown",
   "metadata": {
    "id": "BEwyor2AFgtR"
   },
   "source": [
    "Se visualiza 4 imágenes de un batch tomados de train_loader, se añade los datos de normalizacion para la correcta visualizacion de las imágenes"
   ]
  },
  {
   "cell_type": "code",
   "execution_count": 7,
   "metadata": {
    "colab": {
     "base_uri": "https://localhost:8080/",
     "height": 148
    },
    "executionInfo": {
     "elapsed": 5463,
     "status": "ok",
     "timestamp": 1612488046097,
     "user": {
      "displayName": "Ferdinand Pineda",
      "photoUrl": "https://lh3.googleusercontent.com/a-/AOh14GjrG3xS2QGKaIeH7RW-czRKnJCvLJUrK_P5vrk8zQ=s64",
      "userId": "15693529064082164265"
     },
     "user_tz": 300
    },
    "id": "bK5q5dJ6CXga",
    "outputId": "51d170fb-1efe-4e10-bb61-d229d6794150"
   },
   "outputs": [
    {
     "data": {
      "image/png": "[encoded data removed]",
      "text/plain": [
       "<Figure size 640x480 with 1 Axes>"
      ]
     },
     "metadata": {},
     "output_type": "display_data"
    }
   ],
   "source": [
    "def imshow(inp, title = None):\n",
    "  inp = inp.numpy().transpose((1, 2, 0))\n",
    "  mean = np.array([0.485, 0.456, 0.406])\n",
    "  std = np.array([0.229, 0.224, 0.225])\n",
    "  inp = std * inp + mean\n",
    "  inp = np.clip(inp, 0, 1)\n",
    "  plt.imshow(inp)\n",
    "  \n",
    "  if title is not None:\n",
    "    plt.title(title)\n",
    "  plt.pause(0.001)\n",
    "  \n",
    "inputs, classes = next(iter(val_loader))\n",
    "out = torchvision.utils.make_grid(inputs)\n",
    "\n",
    "imshow(out, title=[class_names[x] for x in classes])"
   ]
  },
  {
   "cell_type": "markdown",
   "metadata": {
    "id": "ga3yu_AUGydS"
   },
   "source": [
    "GPU para el enternamiento, verifico que se utilize CUDA\n",
    "0-> para el primer gpu\n",
    "1-> para seleccionar el segundo GPU en caso se tuviera"
   ]
  },
  {
   "cell_type": "code",
   "execution_count": 8,
   "metadata": {
    "colab": {
     "base_uri": "https://localhost:8080/"
    },
    "executionInfo": {
     "elapsed": 5456,
     "status": "ok",
     "timestamp": 1612488046098,
     "user": {
      "displayName": "Ferdinand Pineda",
      "photoUrl": "https://lh3.googleusercontent.com/a-/AOh14GjrG3xS2QGKaIeH7RW-czRKnJCvLJUrK_P5vrk8zQ=s64",
      "userId": "15693529064082164265"
     },
     "user_tz": 300
    },
    "id": "oigbysegCXiz",
    "outputId": "0c2b0953-dc7a-40db-beea-38ad1254c5c3"
   },
   "outputs": [
    {
     "name": "stdout",
     "output_type": "stream",
     "text": [
      "Se entrenara con: cuda\n"
     ]
    }
   ],
   "source": [
    "torch.cuda.set_device(0) \n",
    "device = ('cuda' if torch.cuda.is_available() else 'cpu')\n",
    "\n",
    "print(\"Se entrenara con:\", device)"
   ]
  },
  {
   "cell_type": "markdown",
   "metadata": {
    "id": "f3V3L-fn-XY6"
   },
   "source": [
    "Arquitectura de la red"
   ]
  },
  {
   "cell_type": "code",
   "execution_count": 9,
   "metadata": {
    "executionInfo": {
     "elapsed": 5455,
     "status": "ok",
     "timestamp": 1612488046100,
     "user": {
      "displayName": "Ferdinand Pineda",
      "photoUrl": "https://lh3.googleusercontent.com/a-/AOh14GjrG3xS2QGKaIeH7RW-czRKnJCvLJUrK_P5vrk8zQ=s64",
      "userId": "15693529064082164265"
     },
     "user_tz": 300
    },
    "id": "YQHYF8FP-UyZ"
   },
   "outputs": [],
   "source": [
    "class Network(nn.Module):\n",
    "  def __init__(self):\n",
    "    super(Network, self).__init__()\n",
    "    self.conv1 = nn.Conv2d(3, 10, kernel_size=5)\n",
    "    self.conv2 = nn.Conv2d(10, 256, kernel_size=3)    \n",
    "    self.bn1 = nn.BatchNorm2d(256)    \n",
    "    self.conv3 = nn.Conv2d(256, 512, kernel_size=3)\n",
    "    #512 de la capa previa, 26 tamaño de la imagen\n",
    "    self.fc1 = nn.Linear(512*26*26,50)  #Una capa full conected, 50 es el numero de neuronas q quiero \n",
    "    self.fc2 = nn.Linear(50,3) #son  clases\n",
    "    \n",
    "  def forward(self, x):\n",
    "    x = F.max_pool2d(F.relu(self.conv1(x)), 2)  #2 el tamaño de la ventana de pooling\n",
    "    #x = F.max_pool2d(F.relu(self.conv2(x)), 2)\n",
    "    x = F.max_pool2d(F.relu(self.bn1(self.conv2(x))), 2)\n",
    "    x = F.max_pool2d(F.relu(self.conv3(x)), 2)\n",
    "    #x = F.relu(self.conv3(x)\n",
    "    #x = x.view(-1,30*5*5) #al valor de x le hago un, -1 desdoblo las dimensiones a un size de 320\n",
    "    x = x.view(-1, self.num_flat_features(x))\n",
    "    x = F.relu(self.fc1(x))\n",
    "    x = self.fc2(x)\n",
    "    return F.softmax(x)\n",
    "  \n",
    "  def num_flat_features(self, x):\n",
    "        size = x.size()[1:]  # all dimensions except the batch dimension\n",
    "        num_features = 1\n",
    "        for s in size:\n",
    "            num_features *= s\n",
    "        return num_features \n",
    "\n",
    "network = Network()"
   ]
  },
  {
   "cell_type": "code",
   "execution_count": 10,
   "metadata": {
    "executionInfo": {
     "elapsed": 15714,
     "status": "ok",
     "timestamp": 1612488056362,
     "user": {
      "displayName": "Ferdinand Pineda",
      "photoUrl": "https://lh3.googleusercontent.com/a-/AOh14GjrG3xS2QGKaIeH7RW-czRKnJCvLJUrK_P5vrk8zQ=s64",
      "userId": "15693529064082164265"
     },
     "user_tz": 300
    },
    "id": "_c9LQ8M_-9uy"
   },
   "outputs": [],
   "source": [
    "network = network.to(device)"
   ]
  },
  {
   "cell_type": "markdown",
   "metadata": {
    "id": "xGuMgpLxD3qG"
   },
   "source": [
    "Función de entrenamiento para train y val\n",
    "\n",
    "Se añade comentarios tomados de la documentación y foros explicando el proceso y parámetros utilizados"
   ]
  },
  {
   "cell_type": "code",
   "execution_count": 11,
   "metadata": {
    "executionInfo": {
     "elapsed": 15713,
     "status": "ok",
     "timestamp": 1612488056364,
     "user": {
      "displayName": "Ferdinand Pineda",
      "photoUrl": "https://lh3.googleusercontent.com/a-/AOh14GjrG3xS2QGKaIeH7RW-czRKnJCvLJUrK_P5vrk8zQ=s64",
      "userId": "15693529064082164265"
     },
     "user_tz": 300
    },
    "id": "yz5cjxyhCXlH"
   },
   "outputs": [],
   "source": [
    "#Modelo\n",
    "def train_model(model, criterio, optimizer, scheduler, num_epochs):  \n",
    "    since = time.time()\n",
    "    \n",
    "    best_model_wts = copy.deepcopy(model.state_dict())\n",
    "    best_acc = 0.0\n",
    "    best_acc_train = 0.0\n",
    "    \n",
    "    for epoch in range(num_epochs):\n",
    "        print('Epoch {}/{}'.format(epoch, num_epochs-1))\n",
    "        print('-' * 25)\n",
    "    \n",
    "        #Train model\n",
    "        #During an epoch, we need to update the LR using the ‘.step()’ method of the scheduler object\n",
    "        scheduler.step()\n",
    "        #Tells your model that you are training the model\n",
    "        model.train()\n",
    "    \n",
    "        running_loss = 0.0\n",
    "        running_corrects = 0.0\n",
    "    \n",
    "        for inputs, labels in train_loader:\n",
    "            inputs = inputs.to(device)\n",
    "            labels = labels.to(device)\n",
    "        \n",
    "            #In PyTorch, we need to set the gradients to zero before starting to do backpropragation \n",
    "            #because PyTorch accumulates the gradients on subsequent backward passes.\n",
    "            optimizer.zero_grad()\n",
    "        \n",
    "            outputs = model(inputs)\n",
    "        \n",
    "            #Si utilizo softmax, puedo usar exp\n",
    "            #We are doing it here just to make our predictions look like probabilities \n",
    "            #which sometimes helps in debugging. You are free to remove torch.exp \n",
    "            #call in the code if you want. torch.max returns a tuple containing the maximum value \n",
    "            #and the index of the maximum value within the tensor. Since the index in our case \n",
    "            #represents the classified category itself, we will only take that ignoring \n",
    "            #the actual probability.\n",
    "            #_, preds = torch.max(torch.exp(outputs), 1)\n",
    "        \n",
    "            #pytorch.max\n",
    "            #Returns the maximum value of all elements in the input tensor.\n",
    "            _, preds = torch.max(outputs, 1)\n",
    "        \n",
    "            #you should use labels, because u need to get loss by comparing ground truth \n",
    "            #and predicting label, the predict is outputs, and the ground truth is labels\n",
    "            loss = criterion(outputs, labels)\n",
    "        \n",
    "            #loss.backward() computes dloss/dx for every parameter x which has \n",
    "            #requires_grad=True. These are accumulated into x.grad for every parameter x        \n",
    "            loss.backward()\n",
    "        \n",
    "            #optimizer.step updates the value of x using the gradient x.grad\n",
    "            optimizer.step()\n",
    "        \n",
    "            #the loss returned is an average over all examples in a batch, given this, \n",
    "            #you could simply divide the running loss by the number of batches, \n",
    "            #however since the final batch is often not the same size with others, \n",
    "            #your results would be inaccurate, hence, the solution is to reverse the average \n",
    "            #by multiplying the loss in a batch by the total number of images in the batch, \n",
    "            #this gives unaveraged sum of losses over all examples, when you divide the running loss \n",
    "            #by the total number of images ,you get accurate loss metrics.\n",
    "            running_loss += loss.item() * inputs.size(0)\n",
    "            running_corrects += torch.sum(preds == labels.data)\n",
    "        \n",
    "        epoch_loss_train = running_loss /len(train_dataset)\n",
    "        epoch_acc_train = running_corrects.double() / len(train_dataset)\n",
    "    \n",
    "        print('Train Loss: {:.4f} Acc: {:.4f}'.format(epoch_loss_train, epoch_acc_train))\n",
    "        if epoch_acc_train > best_acc_train:\n",
    "              best_acc_train = epoch_acc_train\n",
    "        \n",
    "           \n",
    "        #Validation \n",
    "        model.eval()\n",
    "        running_loss = 0.0\n",
    "        running_corrects = 0.0\n",
    "    \n",
    "        for inputs, labels in val_loader:\n",
    "            inputs = inputs.to(device)\n",
    "            labels = labels.to(device)\n",
    "        \n",
    "            #Context-manager that sets gradient calculation to on or off\n",
    "            #Disabling gradient calculation is useful for inference, when you are sure that you will \n",
    "            #not call Tensor.backward(). It will reduce memory consumption for computations that would \n",
    "            #otherwise have requires_grad=True. \n",
    "            with torch.set_grad_enabled(False):\n",
    "                outputs = model(inputs)\n",
    "                _, preds = torch.max(outputs, 1)\n",
    "                loss = criterion(outputs, labels)\n",
    "            \n",
    "                running_loss += loss.item() * inputs.size(0)\n",
    "                running_corrects += torch.sum(preds == labels.data)\n",
    "            \n",
    "        epoch_loss_val = running_loss /len(val_dataset)\n",
    "        epoch_acc_val = running_corrects.double() / len(val_dataset)\n",
    "                   \n",
    "        print('Val Loss: {:.4f} Acc: {:.4f}'.format(epoch_loss_val, epoch_acc_val))\n",
    "                      \n",
    "        if epoch_acc_val > best_acc:\n",
    "              best_acc = epoch_acc_val\n",
    "              best_model_wts = copy.deepcopy(model.state_dict())\n",
    "              torch.save(best_model_wts, 'resnetxt.pth')\n",
    "              \n",
    "    time_elapsed = time.time() - since\n",
    "    print(\"####################################################\")\n",
    "    print('Training complete in {:.0f}m {:.0f}s'.format(time_elapsed//60, time_elapsed % 60))\n",
    "    print('Best train accucary: {:.4f}'.format(best_acc_train))\n",
    "    print('Best val accucary: {:.4f}'.format(best_acc))\n",
    "    model.load_state_dict(best_model_wts)\n",
    "    return model"
   ]
  },
  {
   "cell_type": "markdown",
   "metadata": {
    "id": "RP2DdfmpWrv-"
   },
   "source": [
    "Funcion test"
   ]
  },
  {
   "cell_type": "code",
   "execution_count": 12,
   "metadata": {
    "executionInfo": {
     "elapsed": 15711,
     "status": "ok",
     "timestamp": 1612488056365,
     "user": {
      "displayName": "Ferdinand Pineda",
      "photoUrl": "https://lh3.googleusercontent.com/a-/AOh14GjrG3xS2QGKaIeH7RW-czRKnJCvLJUrK_P5vrk8zQ=s64",
      "userId": "15693529064082164265"
     },
     "user_tz": 300
    },
    "id": "REWEjVCGWqtw"
   },
   "outputs": [],
   "source": [
    "def test_model(model):\n",
    "    model.eval()\n",
    "    running_loss = 0.0\n",
    "    running_corrects = 0.0\n",
    "    \n",
    "    best_model_wts = copy.deepcopy(model.state_dict())\n",
    "    best_acc = 0.0\n",
    "    \n",
    "    for inputs, labels in test_loader:\n",
    "        inputs = inputs.to(device)\n",
    "        labels = labels.to(device)\n",
    "        \n",
    "        with torch.set_grad_enabled(False):\n",
    "            outputs = model(inputs)\n",
    "            _, preds = torch.max(outputs, 1)\n",
    "            loss = criterion(outputs, labels)\n",
    "            \n",
    "        running_loss += loss.item() * inputs.size(0)\n",
    "        running_corrects += torch.sum(preds == labels.data)\n",
    "            \n",
    "    epoch_loss = running_loss /len(test_dataset)\n",
    "    epoch_acc = running_corrects.double() / len(test_dataset)\n",
    "        \n",
    "    print('Test Loss: {:.4f} Acc: {:.4f}'.format(epoch_loss, epoch_acc))\n",
    "    return test_model"
   ]
  },
  {
   "cell_type": "markdown",
   "metadata": {
    "id": "qtKaVCFtHv1M"
   },
   "source": [
    "Visualizar el resultado, se utiliza imagenes en test"
   ]
  },
  {
   "cell_type": "code",
   "execution_count": 13,
   "metadata": {
    "executionInfo": {
     "elapsed": 15710,
     "status": "ok",
     "timestamp": 1612488056366,
     "user": {
      "displayName": "Ferdinand Pineda",
      "photoUrl": "https://lh3.googleusercontent.com/a-/AOh14GjrG3xS2QGKaIeH7RW-czRKnJCvLJUrK_P5vrk8zQ=s64",
      "userId": "15693529064082164265"
     },
     "user_tz": 300
    },
    "id": "ozgwZmILCXoN"
   },
   "outputs": [],
   "source": [
    "def visualize_model(model, num_images):\n",
    "    was_training = model.training\n",
    "    \n",
    "    model.eval()\n",
    "    images_so_far = 0\n",
    "    \n",
    "    #fig = plt.figure()\n",
    "    \n",
    "    with torch.no_grad():\n",
    "        for i, (inputs, labels) in enumerate(test_loader):\n",
    "            inputs = inputs.to(device)\n",
    "            labels = labels.to(device)\n",
    "            \n",
    "            outputs = model(inputs)\n",
    "            _, preds = torch.max(outputs, 1)\n",
    "                    \n",
    "            for j in range(inputs.size()[0]):\n",
    "                images_so_far +=1\n",
    "                ax = plt.subplot(num_images, 1, images_so_far)\n",
    "                \n",
    "                ax.axis('off')\n",
    "                ax.set_title('Predicted: {} (Clase: {})'.format(class_names[preds[j]], class_names[labels[j]]))\n",
    "                                \n",
    "                imshow(inputs.cpu().data[j])\n",
    "                \n",
    "                if images_so_far == num_images:\n",
    "                    model.train(mode=was_training)\n",
    "                    return           \n",
    "                \n",
    "        model.train(mode = was_training)\n"
   ]
  },
  {
   "cell_type": "markdown",
   "metadata": {
    "id": "J8cCG_fJH4Bd"
   },
   "source": [
    "torch.hub.list(github, force_reload=False, skip_validation=False)###Entrenamiento 1\n",
    "\n",
    "Función de pérdida: CrossEntropyLoss\n",
    "\n",
    "Optimizador: stochastic gradient descent SGD"
   ]
  },
  {
   "cell_type": "code",
   "execution_count": 14,
   "metadata": {},
   "outputs": [],
   "source": [
    "import torch.nn as nn\n",
    "from torchvision.models import resnet101\n",
    "\n",
    "# Crear el modelo ResNet-101 sin pesos preentrenados\n",
    "model_ResNetXt = resnet101(weights=None)\n"
   ]
  },
  {
   "cell_type": "markdown",
   "metadata": {
    "id": "K0D7pWMNKTYQ"
   },
   "source": []
  },
  {
   "cell_type": "code",
   "execution_count": 15,
   "metadata": {
    "colab": {
     "base_uri": "https://localhost:8080/",
     "height": 120,
     "referenced_widgets": [
      "ff84cd630b36401f9de8cd294828f47c",
      "9ce0e20277ca496f96efde54139894ac",
      "212a9c9ca0ec4e95a5216fc983b8a0de",
      "24033c6a3e4a4723994f7455db988db0",
      "5d4f6456c7064aacb9692032799d4f27",
      "3b66c6e84fda4126b35ab54445685ec4",
      "6c7b4f9b82294d4b9dbc3e287013c022",
      "0794ebeaaf5d421e920ee98074c3d749"
     ]
    },
    "executionInfo": {
     "elapsed": 22206,
     "status": "ok",
     "timestamp": 1612488062865,
     "user": {
      "displayName": "Ferdinand Pineda",
      "photoUrl": "https://lh3.googleusercontent.com/a-/AOh14GjrG3xS2QGKaIeH7RW-czRKnJCvLJUrK_P5vrk8zQ=s64",
      "userId": "15693529064082164265"
     },
     "user_tz": 300
    },
    "id": "i2RfQCN_EJwj",
    "outputId": "3d22bc59-f23e-46e8-a4b1-9929b6024c1e"
   },
   "outputs": [
    {
     "data": {
      "text/plain": [
       "ResNet(\n",
       "  (conv1): Conv2d(3, 64, kernel_size=(7, 7), stride=(2, 2), padding=(3, 3), bias=False)\n",
       "  (bn1): BatchNorm2d(64, eps=1e-05, momentum=0.1, affine=True, track_running_stats=True)\n",
       "  (relu): ReLU(inplace=True)\n",
       "  (maxpool): MaxPool2d(kernel_size=3, stride=2, padding=1, dilation=1, ceil_mode=False)\n",
       "  (layer1): Sequential(\n",
       "    (0): Bottleneck(\n",
       "      (conv1): Conv2d(64, 64, kernel_size=(1, 1), stride=(1, 1), bias=False)\n",
       "      (bn1): BatchNorm2d(64, eps=1e-05, momentum=0.1, affine=True, track_running_stats=True)\n",
       "      (conv2): Conv2d(64, 64, kernel_size=(3, 3), stride=(1, 1), padding=(1, 1), bias=False)\n",
       "      (bn2): BatchNorm2d(64, eps=1e-05, momentum=0.1, affine=True, track_running_stats=True)\n",
       "      (conv3): Conv2d(64, 256, kernel_size=(1, 1), stride=(1, 1), bias=False)\n",
       "      (bn3): BatchNorm2d(256, eps=1e-05, momentum=0.1, affine=True, track_running_stats=True)\n",
       "      (relu): ReLU(inplace=True)\n",
       "      (downsample): Sequential(\n",
       "        (0): Conv2d(64, 256, kernel_size=(1, 1), stride=(1, 1), bias=False)\n",
       "        (1): BatchNorm2d(256, eps=1e-05, momentum=0.1, affine=True, track_running_stats=True)\n",
       "      )\n",
       "    )\n",
       "    (1): Bottleneck(\n",
       "      (conv1): Conv2d(256, 64, kernel_size=(1, 1), stride=(1, 1), bias=False)\n",
       "      (bn1): BatchNorm2d(64, eps=1e-05, momentum=0.1, affine=True, track_running_stats=True)\n",
       "      (conv2): Conv2d(64, 64, kernel_size=(3, 3), stride=(1, 1), padding=(1, 1), bias=False)\n",
       "      (bn2): BatchNorm2d(64, eps=1e-05, momentum=0.1, affine=True, track_running_stats=True)\n",
       "      (conv3): Conv2d(64, 256, kernel_size=(1, 1), stride=(1, 1), bias=False)\n",
       "      (bn3): BatchNorm2d(256, eps=1e-05, momentum=0.1, affine=True, track_running_stats=True)\n",
       "      (relu): ReLU(inplace=True)\n",
       "    )\n",
       "    (2): Bottleneck(\n",
       "      (conv1): Conv2d(256, 64, kernel_size=(1, 1), stride=(1, 1), bias=False)\n",
       "      (bn1): BatchNorm2d(64, eps=1e-05, momentum=0.1, affine=True, track_running_stats=True)\n",
       "      (conv2): Conv2d(64, 64, kernel_size=(3, 3), stride=(1, 1), padding=(1, 1), bias=False)\n",
       "      (bn2): BatchNorm2d(64, eps=1e-05, momentum=0.1, affine=True, track_running_stats=True)\n",
       "      (conv3): Conv2d(64, 256, kernel_size=(1, 1), stride=(1, 1), bias=False)\n",
       "      (bn3): BatchNorm2d(256, eps=1e-05, momentum=0.1, affine=True, track_running_stats=True)\n",
       "      (relu): ReLU(inplace=True)\n",
       "    )\n",
       "  )\n",
       "  (layer2): Sequential(\n",
       "    (0): Bottleneck(\n",
       "      (conv1): Conv2d(256, 128, kernel_size=(1, 1), stride=(1, 1), bias=False)\n",
       "      (bn1): BatchNorm2d(128, eps=1e-05, momentum=0.1, affine=True, track_running_stats=True)\n",
       "      (conv2): Conv2d(128, 128, kernel_size=(3, 3), stride=(2, 2), padding=(1, 1), bias=False)\n",
       "      (bn2): BatchNorm2d(128, eps=1e-05, momentum=0.1, affine=True, track_running_stats=True)\n",
       "      (conv3): Conv2d(128, 512, kernel_size=(1, 1), stride=(1, 1), bias=False)\n",
       "      (bn3): BatchNorm2d(512, eps=1e-05, momentum=0.1, affine=True, track_running_stats=True)\n",
       "      (relu): ReLU(inplace=True)\n",
       "      (downsample): Sequential(\n",
       "        (0): Conv2d(256, 512, kernel_size=(1, 1), stride=(2, 2), bias=False)\n",
       "        (1): BatchNorm2d(512, eps=1e-05, momentum=0.1, affine=True, track_running_stats=True)\n",
       "      )\n",
       "    )\n",
       "    (1): Bottleneck(\n",
       "      (conv1): Conv2d(512, 128, kernel_size=(1, 1), stride=(1, 1), bias=False)\n",
       "      (bn1): BatchNorm2d(128, eps=1e-05, momentum=0.1, affine=True, track_running_stats=True)\n",
       "      (conv2): Conv2d(128, 128, kernel_size=(3, 3), stride=(1, 1), padding=(1, 1), bias=False)\n",
       "      (bn2): BatchNorm2d(128, eps=1e-05, momentum=0.1, affine=True, track_running_stats=True)\n",
       "      (conv3): Conv2d(128, 512, kernel_size=(1, 1), stride=(1, 1), bias=False)\n",
       "      (bn3): BatchNorm2d(512, eps=1e-05, momentum=0.1, affine=True, track_running_stats=True)\n",
       "      (relu): ReLU(inplace=True)\n",
       "    )\n",
       "    (2): Bottleneck(\n",
       "      (conv1): Conv2d(512, 128, kernel_size=(1, 1), stride=(1, 1), bias=False)\n",
       "      (bn1): BatchNorm2d(128, eps=1e-05, momentum=0.1, affine=True, track_running_stats=True)\n",
       "      (conv2): Conv2d(128, 128, kernel_size=(3, 3), stride=(1, 1), padding=(1, 1), bias=False)\n",
       "      (bn2): BatchNorm2d(128, eps=1e-05, momentum=0.1, affine=True, track_running_stats=True)\n",
       "      (conv3): Conv2d(128, 512, kernel_size=(1, 1), stride=(1, 1), bias=False)\n",
       "      (bn3): BatchNorm2d(512, eps=1e-05, momentum=0.1, affine=True, track_running_stats=True)\n",
       "      (relu): ReLU(inplace=True)\n",
       "    )\n",
       "    (3): Bottleneck(\n",
       "      (conv1): Conv2d(512, 128, kernel_size=(1, 1), stride=(1, 1), bias=False)\n",
       "      (bn1): BatchNorm2d(128, eps=1e-05, momentum=0.1, affine=True, track_running_stats=True)\n",
       "      (conv2): Conv2d(128, 128, kernel_size=(3, 3), stride=(1, 1), padding=(1, 1), bias=False)\n",
       "      (bn2): BatchNorm2d(128, eps=1e-05, momentum=0.1, affine=True, track_running_stats=True)\n",
       "      (conv3): Conv2d(128, 512, kernel_size=(1, 1), stride=(1, 1), bias=False)\n",
       "      (bn3): BatchNorm2d(512, eps=1e-05, momentum=0.1, affine=True, track_running_stats=True)\n",
       "      (relu): ReLU(inplace=True)\n",
       "    )\n",
       "  )\n",
       "  (layer3): Sequential(\n",
       "    (0): Bottleneck(\n",
       "      (conv1): Conv2d(512, 256, kernel_size=(1, 1), stride=(1, 1), bias=False)\n",
       "      (bn1): BatchNorm2d(256, eps=1e-05, momentum=0.1, affine=True, track_running_stats=True)\n",
       "      (conv2): Conv2d(256, 256, kernel_size=(3, 3), stride=(2, 2), padding=(1, 1), bias=False)\n",
       "      (bn2): BatchNorm2d(256, eps=1e-05, momentum=0.1, affine=True, track_running_stats=True)\n",
       "      (conv3): Conv2d(256, 1024, kernel_size=(1, 1), stride=(1, 1), bias=False)\n",
       "      (bn3): BatchNorm2d(1024, eps=1e-05, momentum=0.1, affine=True, track_running_stats=True)\n",
       "      (relu): ReLU(inplace=True)\n",
       "      (downsample): Sequential(\n",
       "        (0): Conv2d(512, 1024, kernel_size=(1, 1), stride=(2, 2), bias=False)\n",
       "        (1): BatchNorm2d(1024, eps=1e-05, momentum=0.1, affine=True, track_running_stats=True)\n",
       "      )\n",
       "    )\n",
       "    (1): Bottleneck(\n",
       "      (conv1): Conv2d(1024, 256, kernel_size=(1, 1), stride=(1, 1), bias=False)\n",
       "      (bn1): BatchNorm2d(256, eps=1e-05, momentum=0.1, affine=True, track_running_stats=True)\n",
       "      (conv2): Conv2d(256, 256, kernel_size=(3, 3), stride=(1, 1), padding=(1, 1), bias=False)\n",
       "      (bn2): BatchNorm2d(256, eps=1e-05, momentum=0.1, affine=True, track_running_stats=True)\n",
       "      (conv3): Conv2d(256, 1024, kernel_size=(1, 1), stride=(1, 1), bias=False)\n",
       "      (bn3): BatchNorm2d(1024, eps=1e-05, momentum=0.1, affine=True, track_running_stats=True)\n",
       "      (relu): ReLU(inplace=True)\n",
       "    )\n",
       "    (2): Bottleneck(\n",
       "      (conv1): Conv2d(1024, 256, kernel_size=(1, 1), stride=(1, 1), bias=False)\n",
       "      (bn1): BatchNorm2d(256, eps=1e-05, momentum=0.1, affine=True, track_running_stats=True)\n",
       "      (conv2): Conv2d(256, 256, kernel_size=(3, 3), stride=(1, 1), padding=(1, 1), bias=False)\n",
       "      (bn2): BatchNorm2d(256, eps=1e-05, momentum=0.1, affine=True, track_running_stats=True)\n",
       "      (conv3): Conv2d(256, 1024, kernel_size=(1, 1), stride=(1, 1), bias=False)\n",
       "      (bn3): BatchNorm2d(1024, eps=1e-05, momentum=0.1, affine=True, track_running_stats=True)\n",
       "      (relu): ReLU(inplace=True)\n",
       "    )\n",
       "    (3): Bottleneck(\n",
       "      (conv1): Conv2d(1024, 256, kernel_size=(1, 1), stride=(1, 1), bias=False)\n",
       "      (bn1): BatchNorm2d(256, eps=1e-05, momentum=0.1, affine=True, track_running_stats=True)\n",
       "      (conv2): Conv2d(256, 256, kernel_size=(3, 3), stride=(1, 1), padding=(1, 1), bias=False)\n",
       "      (bn2): BatchNorm2d(256, eps=1e-05, momentum=0.1, affine=True, track_running_stats=True)\n",
       "      (conv3): Conv2d(256, 1024, kernel_size=(1, 1), stride=(1, 1), bias=False)\n",
       "      (bn3): BatchNorm2d(1024, eps=1e-05, momentum=0.1, affine=True, track_running_stats=True)\n",
       "      (relu): ReLU(inplace=True)\n",
       "    )\n",
       "    (4): Bottleneck(\n",
       "      (conv1): Conv2d(1024, 256, kernel_size=(1, 1), stride=(1, 1), bias=False)\n",
       "      (bn1): BatchNorm2d(256, eps=1e-05, momentum=0.1, affine=True, track_running_stats=True)\n",
       "      (conv2): Conv2d(256, 256, kernel_size=(3, 3), stride=(1, 1), padding=(1, 1), bias=False)\n",
       "      (bn2): BatchNorm2d(256, eps=1e-05, momentum=0.1, affine=True, track_running_stats=True)\n",
       "      (conv3): Conv2d(256, 1024, kernel_size=(1, 1), stride=(1, 1), bias=False)\n",
       "      (bn3): BatchNorm2d(1024, eps=1e-05, momentum=0.1, affine=True, track_running_stats=True)\n",
       "      (relu): ReLU(inplace=True)\n",
       "    )\n",
       "    (5): Bottleneck(\n",
       "      (conv1): Conv2d(1024, 256, kernel_size=(1, 1), stride=(1, 1), bias=False)\n",
       "      (bn1): BatchNorm2d(256, eps=1e-05, momentum=0.1, affine=True, track_running_stats=True)\n",
       "      (conv2): Conv2d(256, 256, kernel_size=(3, 3), stride=(1, 1), padding=(1, 1), bias=False)\n",
       "      (bn2): BatchNorm2d(256, eps=1e-05, momentum=0.1, affine=True, track_running_stats=True)\n",
       "      (conv3): Conv2d(256, 1024, kernel_size=(1, 1), stride=(1, 1), bias=False)\n",
       "      (bn3): BatchNorm2d(1024, eps=1e-05, momentum=0.1, affine=True, track_running_stats=True)\n",
       "      (relu): ReLU(inplace=True)\n",
       "    )\n",
       "    (6): Bottleneck(\n",
       "      (conv1): Conv2d(1024, 256, kernel_size=(1, 1), stride=(1, 1), bias=False)\n",
       "      (bn1): BatchNorm2d(256, eps=1e-05, momentum=0.1, affine=True, track_running_stats=True)\n",
       "      (conv2): Conv2d(256, 256, kernel_size=(3, 3), stride=(1, 1), padding=(1, 1), bias=False)\n",
       "      (bn2): BatchNorm2d(256, eps=1e-05, momentum=0.1, affine=True, track_running_stats=True)\n",
       "      (conv3): Conv2d(256, 1024, kernel_size=(1, 1), stride=(1, 1), bias=False)\n",
       "      (bn3): BatchNorm2d(1024, eps=1e-05, momentum=0.1, affine=True, track_running_stats=True)\n",
       "      (relu): ReLU(inplace=True)\n",
       "    )\n",
       "    (7): Bottleneck(\n",
       "      (conv1): Conv2d(1024, 256, kernel_size=(1, 1), stride=(1, 1), bias=False)\n",
       "      (bn1): BatchNorm2d(256, eps=1e-05, momentum=0.1, affine=True, track_running_stats=True)\n",
       "      (conv2): Conv2d(256, 256, kernel_size=(3, 3), stride=(1, 1), padding=(1, 1), bias=False)\n",
       "      (bn2): BatchNorm2d(256, eps=1e-05, momentum=0.1, affine=True, track_running_stats=True)\n",
       "      (conv3): Conv2d(256, 1024, kernel_size=(1, 1), stride=(1, 1), bias=False)\n",
       "      (bn3): BatchNorm2d(1024, eps=1e-05, momentum=0.1, affine=True, track_running_stats=True)\n",
       "      (relu): ReLU(inplace=True)\n",
       "    )\n",
       "    (8): Bottleneck(\n",
       "      (conv1): Conv2d(1024, 256, kernel_size=(1, 1), stride=(1, 1), bias=False)\n",
       "      (bn1): BatchNorm2d(256, eps=1e-05, momentum=0.1, affine=True, track_running_stats=True)\n",
       "      (conv2): Conv2d(256, 256, kernel_size=(3, 3), stride=(1, 1), padding=(1, 1), bias=False)\n",
       "      (bn2): BatchNorm2d(256, eps=1e-05, momentum=0.1, affine=True, track_running_stats=True)\n",
       "      (conv3): Conv2d(256, 1024, kernel_size=(1, 1), stride=(1, 1), bias=False)\n",
       "      (bn3): BatchNorm2d(1024, eps=1e-05, momentum=0.1, affine=True, track_running_stats=True)\n",
       "      (relu): ReLU(inplace=True)\n",
       "    )\n",
       "    (9): Bottleneck(\n",
       "      (conv1): Conv2d(1024, 256, kernel_size=(1, 1), stride=(1, 1), bias=False)\n",
       "      (bn1): BatchNorm2d(256, eps=1e-05, momentum=0.1, affine=True, track_running_stats=True)\n",
       "      (conv2): Conv2d(256, 256, kernel_size=(3, 3), stride=(1, 1), padding=(1, 1), bias=False)\n",
       "      (bn2): BatchNorm2d(256, eps=1e-05, momentum=0.1, affine=True, track_running_stats=True)\n",
       "      (conv3): Conv2d(256, 1024, kernel_size=(1, 1), stride=(1, 1), bias=False)\n",
       "      (bn3): BatchNorm2d(1024, eps=1e-05, momentum=0.1, affine=True, track_running_stats=True)\n",
       "      (relu): ReLU(inplace=True)\n",
       "    )\n",
       "    (10): Bottleneck(\n",
       "      (conv1): Conv2d(1024, 256, kernel_size=(1, 1), stride=(1, 1), bias=False)\n",
       "      (bn1): BatchNorm2d(256, eps=1e-05, momentum=0.1, affine=True, track_running_stats=True)\n",
       "      (conv2): Conv2d(256, 256, kernel_size=(3, 3), stride=(1, 1), padding=(1, 1), bias=False)\n",
       "      (bn2): BatchNorm2d(256, eps=1e-05, momentum=0.1, affine=True, track_running_stats=True)\n",
       "      (conv3): Conv2d(256, 1024, kernel_size=(1, 1), stride=(1, 1), bias=False)\n",
       "      (bn3): BatchNorm2d(1024, eps=1e-05, momentum=0.1, affine=True, track_running_stats=True)\n",
       "      (relu): ReLU(inplace=True)\n",
       "    )\n",
       "    (11): Bottleneck(\n",
       "      (conv1): Conv2d(1024, 256, kernel_size=(1, 1), stride=(1, 1), bias=False)\n",
       "      (bn1): BatchNorm2d(256, eps=1e-05, momentum=0.1, affine=True, track_running_stats=True)\n",
       "      (conv2): Conv2d(256, 256, kernel_size=(3, 3), stride=(1, 1), padding=(1, 1), bias=False)\n",
       "      (bn2): BatchNorm2d(256, eps=1e-05, momentum=0.1, affine=True, track_running_stats=True)\n",
       "      (conv3): Conv2d(256, 1024, kernel_size=(1, 1), stride=(1, 1), bias=False)\n",
       "      (bn3): BatchNorm2d(1024, eps=1e-05, momentum=0.1, affine=True, track_running_stats=True)\n",
       "      (relu): ReLU(inplace=True)\n",
       "    )\n",
       "    (12): Bottleneck(\n",
       "      (conv1): Conv2d(1024, 256, kernel_size=(1, 1), stride=(1, 1), bias=False)\n",
       "      (bn1): BatchNorm2d(256, eps=1e-05, momentum=0.1, affine=True, track_running_stats=True)\n",
       "      (conv2): Conv2d(256, 256, kernel_size=(3, 3), stride=(1, 1), padding=(1, 1), bias=False)\n",
       "      (bn2): BatchNorm2d(256, eps=1e-05, momentum=0.1, affine=True, track_running_stats=True)\n",
       "      (conv3): Conv2d(256, 1024, kernel_size=(1, 1), stride=(1, 1), bias=False)\n",
       "      (bn3): BatchNorm2d(1024, eps=1e-05, momentum=0.1, affine=True, track_running_stats=True)\n",
       "      (relu): ReLU(inplace=True)\n",
       "    )\n",
       "    (13): Bottleneck(\n",
       "      (conv1): Conv2d(1024, 256, kernel_size=(1, 1), stride=(1, 1), bias=False)\n",
       "      (bn1): BatchNorm2d(256, eps=1e-05, momentum=0.1, affine=True, track_running_stats=True)\n",
       "      (conv2): Conv2d(256, 256, kernel_size=(3, 3), stride=(1, 1), padding=(1, 1), bias=False)\n",
       "      (bn2): BatchNorm2d(256, eps=1e-05, momentum=0.1, affine=True, track_running_stats=True)\n",
       "      (conv3): Conv2d(256, 1024, kernel_size=(1, 1), stride=(1, 1), bias=False)\n",
       "      (bn3): BatchNorm2d(1024, eps=1e-05, momentum=0.1, affine=True, track_running_stats=True)\n",
       "      (relu): ReLU(inplace=True)\n",
       "    )\n",
       "    (14): Bottleneck(\n",
       "      (conv1): Conv2d(1024, 256, kernel_size=(1, 1), stride=(1, 1), bias=False)\n",
       "      (bn1): BatchNorm2d(256, eps=1e-05, momentum=0.1, affine=True, track_running_stats=True)\n",
       "      (conv2): Conv2d(256, 256, kernel_size=(3, 3), stride=(1, 1), padding=(1, 1), bias=False)\n",
       "      (bn2): BatchNorm2d(256, eps=1e-05, momentum=0.1, affine=True, track_running_stats=True)\n",
       "      (conv3): Conv2d(256, 1024, kernel_size=(1, 1), stride=(1, 1), bias=False)\n",
       "      (bn3): BatchNorm2d(1024, eps=1e-05, momentum=0.1, affine=True, track_running_stats=True)\n",
       "      (relu): ReLU(inplace=True)\n",
       "    )\n",
       "    (15): Bottleneck(\n",
       "      (conv1): Conv2d(1024, 256, kernel_size=(1, 1), stride=(1, 1), bias=False)\n",
       "      (bn1): BatchNorm2d(256, eps=1e-05, momentum=0.1, affine=True, track_running_stats=True)\n",
       "      (conv2): Conv2d(256, 256, kernel_size=(3, 3), stride=(1, 1), padding=(1, 1), bias=False)\n",
       "      (bn2): BatchNorm2d(256, eps=1e-05, momentum=0.1, affine=True, track_running_stats=True)\n",
       "      (conv3): Conv2d(256, 1024, kernel_size=(1, 1), stride=(1, 1), bias=False)\n",
       "      (bn3): BatchNorm2d(1024, eps=1e-05, momentum=0.1, affine=True, track_running_stats=True)\n",
       "      (relu): ReLU(inplace=True)\n",
       "    )\n",
       "    (16): Bottleneck(\n",
       "      (conv1): Conv2d(1024, 256, kernel_size=(1, 1), stride=(1, 1), bias=False)\n",
       "      (bn1): BatchNorm2d(256, eps=1e-05, momentum=0.1, affine=True, track_running_stats=True)\n",
       "      (conv2): Conv2d(256, 256, kernel_size=(3, 3), stride=(1, 1), padding=(1, 1), bias=False)\n",
       "      (bn2): BatchNorm2d(256, eps=1e-05, momentum=0.1, affine=True, track_running_stats=True)\n",
       "      (conv3): Conv2d(256, 1024, kernel_size=(1, 1), stride=(1, 1), bias=False)\n",
       "      (bn3): BatchNorm2d(1024, eps=1e-05, momentum=0.1, affine=True, track_running_stats=True)\n",
       "      (relu): ReLU(inplace=True)\n",
       "    )\n",
       "    (17): Bottleneck(\n",
       "      (conv1): Conv2d(1024, 256, kernel_size=(1, 1), stride=(1, 1), bias=False)\n",
       "      (bn1): BatchNorm2d(256, eps=1e-05, momentum=0.1, affine=True, track_running_stats=True)\n",
       "      (conv2): Conv2d(256, 256, kernel_size=(3, 3), stride=(1, 1), padding=(1, 1), bias=False)\n",
       "      (bn2): BatchNorm2d(256, eps=1e-05, momentum=0.1, affine=True, track_running_stats=True)\n",
       "      (conv3): Conv2d(256, 1024, kernel_size=(1, 1), stride=(1, 1), bias=False)\n",
       "      (bn3): BatchNorm2d(1024, eps=1e-05, momentum=0.1, affine=True, track_running_stats=True)\n",
       "      (relu): ReLU(inplace=True)\n",
       "    )\n",
       "    (18): Bottleneck(\n",
       "      (conv1): Conv2d(1024, 256, kernel_size=(1, 1), stride=(1, 1), bias=False)\n",
       "      (bn1): BatchNorm2d(256, eps=1e-05, momentum=0.1, affine=True, track_running_stats=True)\n",
       "      (conv2): Conv2d(256, 256, kernel_size=(3, 3), stride=(1, 1), padding=(1, 1), bias=False)\n",
       "      (bn2): BatchNorm2d(256, eps=1e-05, momentum=0.1, affine=True, track_running_stats=True)\n",
       "      (conv3): Conv2d(256, 1024, kernel_size=(1, 1), stride=(1, 1), bias=False)\n",
       "      (bn3): BatchNorm2d(1024, eps=1e-05, momentum=0.1, affine=True, track_running_stats=True)\n",
       "      (relu): ReLU(inplace=True)\n",
       "    )\n",
       "    (19): Bottleneck(\n",
       "      (conv1): Conv2d(1024, 256, kernel_size=(1, 1), stride=(1, 1), bias=False)\n",
       "      (bn1): BatchNorm2d(256, eps=1e-05, momentum=0.1, affine=True, track_running_stats=True)\n",
       "      (conv2): Conv2d(256, 256, kernel_size=(3, 3), stride=(1, 1), padding=(1, 1), bias=False)\n",
       "      (bn2): BatchNorm2d(256, eps=1e-05, momentum=0.1, affine=True, track_running_stats=True)\n",
       "      (conv3): Conv2d(256, 1024, kernel_size=(1, 1), stride=(1, 1), bias=False)\n",
       "      (bn3): BatchNorm2d(1024, eps=1e-05, momentum=0.1, affine=True, track_running_stats=True)\n",
       "      (relu): ReLU(inplace=True)\n",
       "    )\n",
       "    (20): Bottleneck(\n",
       "      (conv1): Conv2d(1024, 256, kernel_size=(1, 1), stride=(1, 1), bias=False)\n",
       "      (bn1): BatchNorm2d(256, eps=1e-05, momentum=0.1, affine=True, track_running_stats=True)\n",
       "      (conv2): Conv2d(256, 256, kernel_size=(3, 3), stride=(1, 1), padding=(1, 1), bias=False)\n",
       "      (bn2): BatchNorm2d(256, eps=1e-05, momentum=0.1, affine=True, track_running_stats=True)\n",
       "      (conv3): Conv2d(256, 1024, kernel_size=(1, 1), stride=(1, 1), bias=False)\n",
       "      (bn3): BatchNorm2d(1024, eps=1e-05, momentum=0.1, affine=True, track_running_stats=True)\n",
       "      (relu): ReLU(inplace=True)\n",
       "    )\n",
       "    (21): Bottleneck(\n",
       "      (conv1): Conv2d(1024, 256, kernel_size=(1, 1), stride=(1, 1), bias=False)\n",
       "      (bn1): BatchNorm2d(256, eps=1e-05, momentum=0.1, affine=True, track_running_stats=True)\n",
       "      (conv2): Conv2d(256, 256, kernel_size=(3, 3), stride=(1, 1), padding=(1, 1), bias=False)\n",
       "      (bn2): BatchNorm2d(256, eps=1e-05, momentum=0.1, affine=True, track_running_stats=True)\n",
       "      (conv3): Conv2d(256, 1024, kernel_size=(1, 1), stride=(1, 1), bias=False)\n",
       "      (bn3): BatchNorm2d(1024, eps=1e-05, momentum=0.1, affine=True, track_running_stats=True)\n",
       "      (relu): ReLU(inplace=True)\n",
       "    )\n",
       "    (22): Bottleneck(\n",
       "      (conv1): Conv2d(1024, 256, kernel_size=(1, 1), stride=(1, 1), bias=False)\n",
       "      (bn1): BatchNorm2d(256, eps=1e-05, momentum=0.1, affine=True, track_running_stats=True)\n",
       "      (conv2): Conv2d(256, 256, kernel_size=(3, 3), stride=(1, 1), padding=(1, 1), bias=False)\n",
       "      (bn2): BatchNorm2d(256, eps=1e-05, momentum=0.1, affine=True, track_running_stats=True)\n",
       "      (conv3): Conv2d(256, 1024, kernel_size=(1, 1), stride=(1, 1), bias=False)\n",
       "      (bn3): BatchNorm2d(1024, eps=1e-05, momentum=0.1, affine=True, track_running_stats=True)\n",
       "      (relu): ReLU(inplace=True)\n",
       "    )\n",
       "  )\n",
       "  (layer4): Sequential(\n",
       "    (0): Bottleneck(\n",
       "      (conv1): Conv2d(1024, 512, kernel_size=(1, 1), stride=(1, 1), bias=False)\n",
       "      (bn1): BatchNorm2d(512, eps=1e-05, momentum=0.1, affine=True, track_running_stats=True)\n",
       "      (conv2): Conv2d(512, 512, kernel_size=(3, 3), stride=(2, 2), padding=(1, 1), bias=False)\n",
       "      (bn2): BatchNorm2d(512, eps=1e-05, momentum=0.1, affine=True, track_running_stats=True)\n",
       "      (conv3): Conv2d(512, 2048, kernel_size=(1, 1), stride=(1, 1), bias=False)\n",
       "      (bn3): BatchNorm2d(2048, eps=1e-05, momentum=0.1, affine=True, track_running_stats=True)\n",
       "      (relu): ReLU(inplace=True)\n",
       "      (downsample): Sequential(\n",
       "        (0): Conv2d(1024, 2048, kernel_size=(1, 1), stride=(2, 2), bias=False)\n",
       "        (1): BatchNorm2d(2048, eps=1e-05, momentum=0.1, affine=True, track_running_stats=True)\n",
       "      )\n",
       "    )\n",
       "    (1): Bottleneck(\n",
       "      (conv1): Conv2d(2048, 512, kernel_size=(1, 1), stride=(1, 1), bias=False)\n",
       "      (bn1): BatchNorm2d(512, eps=1e-05, momentum=0.1, affine=True, track_running_stats=True)\n",
       "      (conv2): Conv2d(512, 512, kernel_size=(3, 3), stride=(1, 1), padding=(1, 1), bias=False)\n",
       "      (bn2): BatchNorm2d(512, eps=1e-05, momentum=0.1, affine=True, track_running_stats=True)\n",
       "      (conv3): Conv2d(512, 2048, kernel_size=(1, 1), stride=(1, 1), bias=False)\n",
       "      (bn3): BatchNorm2d(2048, eps=1e-05, momentum=0.1, affine=True, track_running_stats=True)\n",
       "      (relu): ReLU(inplace=True)\n",
       "    )\n",
       "    (2): Bottleneck(\n",
       "      (conv1): Conv2d(2048, 512, kernel_size=(1, 1), stride=(1, 1), bias=False)\n",
       "      (bn1): BatchNorm2d(512, eps=1e-05, momentum=0.1, affine=True, track_running_stats=True)\n",
       "      (conv2): Conv2d(512, 512, kernel_size=(3, 3), stride=(1, 1), padding=(1, 1), bias=False)\n",
       "      (bn2): BatchNorm2d(512, eps=1e-05, momentum=0.1, affine=True, track_running_stats=True)\n",
       "      (conv3): Conv2d(512, 2048, kernel_size=(1, 1), stride=(1, 1), bias=False)\n",
       "      (bn3): BatchNorm2d(2048, eps=1e-05, momentum=0.1, affine=True, track_running_stats=True)\n",
       "      (relu): ReLU(inplace=True)\n",
       "    )\n",
       "  )\n",
       "  (avgpool): AdaptiveAvgPool2d(output_size=(1, 1))\n",
       "  (fc): Linear(in_features=2048, out_features=1000, bias=True)\n",
       ")"
      ]
     },
     "execution_count": 15,
     "metadata": {},
     "output_type": "execute_result"
    }
   ],
   "source": [
    "# Arquitectura del modelo\n",
    "model_ResNetXt"
   ]
  },
  {
   "cell_type": "code",
   "execution_count": 16,
   "metadata": {},
   "outputs": [],
   "source": [
    "num_ft = model_ResNetXt.fc.in_features\n",
    "model_ResNetXt.fc = nn.Linear(num_ft, 3)"
   ]
  },
  {
   "cell_type": "code",
   "execution_count": 17,
   "metadata": {},
   "outputs": [],
   "source": [
    "# Modelo a GPU\n",
    "model_ResNetXt = model_ResNetXt.to(device)"
   ]
  },
  {
   "cell_type": "code",
   "execution_count": 18,
   "metadata": {},
   "outputs": [],
   "source": [
    "# FUncion de perdidad, optimizador, LR\n",
    "criterion = nn.CrossEntropyLoss()\n",
    "optimizer = torch.optim.SGD(model_ResNetXt.parameters(), lr = 0.001, momentum=0.9)\n",
    "scheduler = torch.optim.lr_scheduler.StepLR(optimizer, step_size=7, gamma=0.1)"
   ]
  },
  {
   "cell_type": "markdown",
   "metadata": {
    "id": "RRDYwDCKJspf"
   },
   "source": [
    "Pruebo el entrenamiento con los datos de test"
   ]
  },
  {
   "cell_type": "code",
   "execution_count": 19,
   "metadata": {
    "colab": {
     "base_uri": "https://localhost:8080/"
    },
    "executionInfo": {
     "elapsed": 1814058,
     "status": "ok",
     "timestamp": 1612489854724,
     "user": {
      "displayName": "Ferdinand Pineda",
      "photoUrl": "https://lh3.googleusercontent.com/a-/AOh14GjrG3xS2QGKaIeH7RW-czRKnJCvLJUrK_P5vrk8zQ=s64",
      "userId": "15693529064082164265"
     },
     "user_tz": 300
    },
    "id": "9UD7souMJlbE",
    "outputId": "aa7c7834-741a-4e54-a27a-0993d8360f35"
   },
   "outputs": [
    {
     "name": "stdout",
     "output_type": "stream",
     "text": [
      "Epoch 0/39\n",
      "-------------------------\n"
     ]
    },
    {
     "name": "stderr",
     "output_type": "stream",
     "text": [
      "/home/aloha/miniconda3/lib/python3.12/site-packages/torch/optim/lr_scheduler.py:216: UserWarning: Detected call of `lr_scheduler.step()` before `optimizer.step()`. In PyTorch 1.1.0 and later, you should call them in the opposite order: `optimizer.step()` before `lr_scheduler.step()`.  Failure to do this will result in PyTorch skipping the first value of the learning rate schedule. See more details at https://pytorch.org/docs/stable/optim.html#how-to-adjust-learning-rate\n",
      "  warnings.warn(\n"
     ]
    },
    {
     "name": "stdout",
     "output_type": "stream",
     "text": [
      "Train Loss: 1.7941 Acc: 0.3789\n",
      "Val Loss: 18.2079 Acc: 0.3633\n",
      "Epoch 1/39\n",
      "-------------------------\n",
      "Train Loss: 1.3759 Acc: 0.4178\n",
      "Val Loss: 1.6390 Acc: 0.4900\n",
      "Epoch 2/39\n",
      "-------------------------\n",
      "Train Loss: 1.2048 Acc: 0.4550\n",
      "Val Loss: 1.4979 Acc: 0.4600\n",
      "Epoch 3/39\n",
      "-------------------------\n",
      "Train Loss: 1.1480 Acc: 0.4711\n",
      "Val Loss: 1.2373 Acc: 0.5467\n",
      "Epoch 4/39\n",
      "-------------------------\n",
      "Train Loss: 1.1225 Acc: 0.4967\n",
      "Val Loss: 4.4045 Acc: 0.4267\n",
      "Epoch 5/39\n",
      "-------------------------\n",
      "Train Loss: 1.0415 Acc: 0.5161\n",
      "Val Loss: 1.1507 Acc: 0.5567\n",
      "Epoch 6/39\n",
      "-------------------------\n",
      "Train Loss: 0.8883 Acc: 0.5817\n",
      "Val Loss: 0.9570 Acc: 0.6200\n",
      "Epoch 7/39\n",
      "-------------------------\n",
      "Train Loss: 0.8796 Acc: 0.6028\n",
      "Val Loss: 0.8709 Acc: 0.5700\n",
      "Epoch 8/39\n",
      "-------------------------\n",
      "Train Loss: 0.8309 Acc: 0.6267\n",
      "Val Loss: 2.0823 Acc: 0.5767\n",
      "Epoch 9/39\n",
      "-------------------------\n",
      "Train Loss: 0.8378 Acc: 0.6233\n",
      "Val Loss: 1.0193 Acc: 0.6267\n",
      "Epoch 10/39\n",
      "-------------------------\n",
      "Train Loss: 0.8396 Acc: 0.6217\n",
      "Val Loss: 0.8182 Acc: 0.6600\n",
      "Epoch 11/39\n",
      "-------------------------\n",
      "Train Loss: 0.8464 Acc: 0.6150\n",
      "Val Loss: 0.8108 Acc: 0.6400\n",
      "Epoch 12/39\n",
      "-------------------------\n",
      "Train Loss: 0.8314 Acc: 0.6278\n",
      "Val Loss: 0.8581 Acc: 0.6467\n",
      "Epoch 13/39\n",
      "-------------------------\n",
      "Train Loss: 0.8028 Acc: 0.6517\n",
      "Val Loss: 0.7166 Acc: 0.7200\n",
      "Epoch 14/39\n",
      "-------------------------\n",
      "Train Loss: 0.7740 Acc: 0.6694\n",
      "Val Loss: 0.7815 Acc: 0.6633\n",
      "Epoch 15/39\n",
      "-------------------------\n",
      "Train Loss: 0.7880 Acc: 0.6544\n",
      "Val Loss: 0.7474 Acc: 0.6767\n",
      "Epoch 16/39\n",
      "-------------------------\n",
      "Train Loss: 0.8016 Acc: 0.6394\n",
      "Val Loss: 0.7580 Acc: 0.6867\n",
      "Epoch 17/39\n",
      "-------------------------\n",
      "Train Loss: 0.7758 Acc: 0.6494\n",
      "Val Loss: 0.8243 Acc: 0.6600\n",
      "Epoch 18/39\n",
      "-------------------------\n",
      "Train Loss: 0.7721 Acc: 0.6528\n",
      "Val Loss: 0.7926 Acc: 0.6433\n",
      "Epoch 19/39\n",
      "-------------------------\n",
      "Train Loss: 0.7860 Acc: 0.6544\n",
      "Val Loss: 0.7282 Acc: 0.6900\n",
      "Epoch 20/39\n",
      "-------------------------\n",
      "Train Loss: 0.7788 Acc: 0.6594\n",
      "Val Loss: 0.7590 Acc: 0.6700\n",
      "Epoch 21/39\n",
      "-------------------------\n",
      "Train Loss: 0.7557 Acc: 0.6617\n",
      "Val Loss: 0.7249 Acc: 0.6900\n",
      "Epoch 22/39\n",
      "-------------------------\n",
      "Train Loss: 0.7856 Acc: 0.6622\n",
      "Val Loss: 0.7432 Acc: 0.6933\n",
      "Epoch 23/39\n",
      "-------------------------\n",
      "Train Loss: 0.7865 Acc: 0.6456\n",
      "Val Loss: 0.7473 Acc: 0.7000\n",
      "Epoch 24/39\n",
      "-------------------------\n",
      "Train Loss: 0.7623 Acc: 0.6628\n",
      "Val Loss: 0.7499 Acc: 0.6867\n",
      "Epoch 25/39\n",
      "-------------------------\n",
      "Train Loss: 0.7838 Acc: 0.6622\n",
      "Val Loss: 0.7592 Acc: 0.6967\n",
      "Epoch 26/39\n",
      "-------------------------\n",
      "Train Loss: 0.7796 Acc: 0.6628\n",
      "Val Loss: 0.7397 Acc: 0.6967\n",
      "Epoch 27/39\n",
      "-------------------------\n",
      "Train Loss: 0.7879 Acc: 0.6417\n",
      "Val Loss: 0.7393 Acc: 0.7133\n",
      "Epoch 28/39\n",
      "-------------------------\n",
      "Train Loss: 0.7755 Acc: 0.6600\n",
      "Val Loss: 0.7822 Acc: 0.6367\n",
      "Epoch 29/39\n",
      "-------------------------\n",
      "Train Loss: 0.7669 Acc: 0.6744\n",
      "Val Loss: 0.7462 Acc: 0.6867\n",
      "Epoch 30/39\n",
      "-------------------------\n",
      "Train Loss: 0.7568 Acc: 0.6567\n",
      "Val Loss: 0.7367 Acc: 0.7033\n",
      "Epoch 31/39\n",
      "-------------------------\n",
      "Train Loss: 0.7942 Acc: 0.6517\n",
      "Val Loss: 0.7748 Acc: 0.6767\n",
      "Epoch 32/39\n",
      "-------------------------\n",
      "Train Loss: 0.7678 Acc: 0.6672\n",
      "Val Loss: 0.7409 Acc: 0.6733\n",
      "Epoch 33/39\n",
      "-------------------------\n",
      "Train Loss: 0.7857 Acc: 0.6483\n",
      "Val Loss: 0.7939 Acc: 0.6767\n",
      "Epoch 34/39\n",
      "-------------------------\n",
      "Train Loss: 0.7953 Acc: 0.6506\n",
      "Val Loss: 0.7359 Acc: 0.6700\n",
      "Epoch 35/39\n",
      "-------------------------\n",
      "Train Loss: 0.7902 Acc: 0.6428\n",
      "Val Loss: 0.7779 Acc: 0.6800\n",
      "Epoch 36/39\n",
      "-------------------------\n",
      "Train Loss: 0.7875 Acc: 0.6483\n",
      "Val Loss: 0.7583 Acc: 0.6800\n",
      "Epoch 37/39\n",
      "-------------------------\n",
      "Train Loss: 0.7817 Acc: 0.6422\n",
      "Val Loss: 0.7816 Acc: 0.7000\n",
      "Epoch 38/39\n",
      "-------------------------\n",
      "Train Loss: 0.7744 Acc: 0.6633\n",
      "Val Loss: 0.7567 Acc: 0.6633\n",
      "Epoch 39/39\n",
      "-------------------------\n",
      "Train Loss: 0.7882 Acc: 0.6533\n",
      "Val Loss: 0.7395 Acc: 0.6767\n",
      "####################################################\n",
      "Training complete in 20m 23s\n",
      "Best train accucary: 0.6744\n",
      "Best val accucary: 0.7200\n"
     ]
    }
   ],
   "source": [
    "model_ResNetXt = train_model(model_ResNetXt, criterion, optimizer, scheduler, num_epochs=num_epocas)"
   ]
  },
  {
   "cell_type": "markdown",
   "metadata": {
    "id": "dtLXqOp4J-b1"
   },
   "source": [
    "Visualización de resultados en test"
   ]
  },
  {
   "cell_type": "code",
   "execution_count": 20,
   "metadata": {
    "colab": {
     "base_uri": "https://localhost:8080/"
    },
    "executionInfo": {
     "elapsed": 1817358,
     "status": "ok",
     "timestamp": 1612489858032,
     "user": {
      "displayName": "Ferdinand Pineda",
      "photoUrl": "https://lh3.googleusercontent.com/a-/AOh14GjrG3xS2QGKaIeH7RW-czRKnJCvLJUrK_P5vrk8zQ=s64",
      "userId": "15693529064082164265"
     },
     "user_tz": 300
    },
    "id": "4n1bUc1fJ9BL",
    "outputId": "0cc67565-3e61-4cf3-c5bc-df6a309eb93a"
   },
   "outputs": [
    {
     "name": "stdout",
     "output_type": "stream",
     "text": [
      "Test Loss: 0.8149 Acc: 0.6533\n"
     ]
    }
   ],
   "source": [
    "model_ResNetXt_test = test_model(model_ResNetXt)"
   ]
  },
  {
   "cell_type": "code",
   "execution_count": 21,
   "metadata": {
    "colab": {
     "base_uri": "https://localhost:8080/",
     "height": 533
    },
    "executionInfo": {
     "elapsed": 1817692,
     "status": "ok",
     "timestamp": 1612489858370,
     "user": {
      "displayName": "Ferdinand Pineda",
      "photoUrl": "https://lh3.googleusercontent.com/a-/AOh14GjrG3xS2QGKaIeH7RW-czRKnJCvLJUrK_P5vrk8zQ=s64",
      "userId": "15693529064082164265"
     },
     "user_tz": 300
    },
    "id": "hKHltPnsUeBO",
    "outputId": "73056afa-9cb4-4c6f-f222-299562b63130"
   },
   "outputs": [
    {
     "data": {
      "image/png": "[encoded data removed]",
      "text/plain": [
       "<Figure size 640x480 with 1 Axes>"
      ]
     },
     "metadata": {},
     "output_type": "display_data"
    },
    {
     "data": {
      "image/png": "[encoded data removed]",
      "text/plain": [
       "<Figure size 640x480 with 1 Axes>"
      ]
     },
     "metadata": {},
     "output_type": "display_data"
    },
    {
     "data": {
      "image/png": "[encoded data removed]",
      "text/plain": [
       "<Figure size 640x480 with 1 Axes>"
      ]
     },
     "metadata": {},
     "output_type": "display_data"
    },
    {
     "data": {
      "image/png": "[encoded data removed]",
      "text/plain": [
       "<Figure size 640x480 with 1 Axes>"
      ]
     },
     "metadata": {},
     "output_type": "display_data"
    }
   ],
   "source": [
    "visualize_model(model=model_ResNetXt, num_images = 4)"
   ]
  },
  {
   "cell_type": "code",
   "execution_count": null,
   "metadata": {
    "executionInfo": {
     "elapsed": 1817691,
     "status": "ok",
     "timestamp": 1612489858372,
     "user": {
      "displayName": "Ferdinand Pineda",
      "photoUrl": "https://lh3.googleusercontent.com/a-/AOh14GjrG3xS2QGKaIeH7RW-czRKnJCvLJUrK_P5vrk8zQ=s64",
      "userId": "15693529064082164265"
     },
     "user_tz": 300
    },
    "id": "XtHnL7gZ_PPt"
   },
   "outputs": [],
   "source": []
  }
 ],
 "metadata": {
  "accelerator": "GPU",
  "colab": {
   "collapsed_sections": [],
   "name": "Copy of CatDogs_trasnferlearning.ipynb",
   "provenance": [
    {
     "file_id": "1fGIXxnTUARv3GaGnjEBNdQzSpIKIUGqq",
     "timestamp": 1612490272368
    },
    {
     "file_id": "1D-ydslS7B-RjxY3asDfo0AvfnboVonrN",
     "timestamp": 1612391605080
    }
   ],
   "toc_visible": true
  },
  "kernelspec": {
   "display_name": "base",
   "language": "python",
   "name": "python3"
  },
  "language_info": {
   "codemirror_mode": {
    "name": "ipython",
    "version": 3
   },
   "file_extension": ".py",
   "mimetype": "text/x-python",
   "name": "python",
   "nbconvert_exporter": "python",
   "pygments_lexer": "ipython3",
   "version": "3.12.2"
  },
  "widgets": {
   "application/vnd.jupyter.widget-state+json": {
    "0794ebeaaf5d421e920ee98074c3d749": {
     "model_module": "@jupyter-widgets/base",
     "model_name": "LayoutModel",
     "state": {
      "_model_module": "@jupyter-widgets/base",
      "_model_module_version": "1.2.0",
      "_model_name": "LayoutModel",
      "_view_count": null,
      "_view_module": "@jupyter-widgets/base",
      "_view_module_version": "1.2.0",
      "_view_name": "LayoutView",
      "align_content": null,
      "align_items": null,
      "align_self": null,
      "border": null,
      "bottom": null,
      "display": null,
      "flex": null,
      "flex_flow": null,
      "grid_area": null,
      "grid_auto_columns": null,
      "grid_auto_flow": null,
      "grid_auto_rows": null,
      "grid_column": null,
      "grid_gap": null,
      "grid_row": null,
      "grid_template_areas": null,
      "grid_template_columns": null,
      "grid_template_rows": null,
      "height": null,
      "justify_content": null,
      "justify_items": null,
      "left": null,
      "margin": null,
      "max_height": null,
      "max_width": null,
      "min_height": null,
      "min_width": null,
      "object_fit": null,
      "object_position": null,
      "order": null,
      "overflow": null,
      "overflow_x": null,
      "overflow_y": null,
      "padding": null,
      "right": null,
      "top": null,
      "visibility": null,
      "width": null
     }
    },
    "212a9c9ca0ec4e95a5216fc983b8a0de": {
     "model_module": "@jupyter-widgets/controls",
     "model_name": "FloatProgressModel",
     "state": {
      "_dom_classes": [],
      "_model_module": "@jupyter-widgets/controls",
      "_model_module_version": "1.5.0",
      "_model_name": "FloatProgressModel",
      "_view_count": null,
      "_view_module": "@jupyter-widgets/controls",
      "_view_module_version": "1.5.0",
      "_view_name": "ProgressView",
      "bar_style": "success",
      "description": "100%",
      "description_tooltip": null,
      "layout": "IPY_MODEL_3b66c6e84fda4126b35ab54445685ec4",
      "max": 356056638,
      "min": 0,
      "orientation": "horizontal",
      "style": "IPY_MODEL_5d4f6456c7064aacb9692032799d4f27",
      "value": 356056638
     }
    },
    "24033c6a3e4a4723994f7455db988db0": {
     "model_module": "@jupyter-widgets/controls",
     "model_name": "HTMLModel",
     "state": {
      "_dom_classes": [],
      "_model_module": "@jupyter-widgets/controls",
      "_model_module_version": "1.5.0",
      "_model_name": "HTMLModel",
      "_view_count": null,
      "_view_module": "@jupyter-widgets/controls",
      "_view_module_version": "1.5.0",
      "_view_name": "HTMLView",
      "description": "",
      "description_tooltip": null,
      "layout": "IPY_MODEL_0794ebeaaf5d421e920ee98074c3d749",
      "placeholder": "​",
      "style": "IPY_MODEL_6c7b4f9b82294d4b9dbc3e287013c022",
      "value": " 340M/340M [00:04&lt;00:00, 79.1MB/s]"
     }
    },
    "3b66c6e84fda4126b35ab54445685ec4": {
     "model_module": "@jupyter-widgets/base",
     "model_name": "LayoutModel",
     "state": {
      "_model_module": "@jupyter-widgets/base",
      "_model_module_version": "1.2.0",
      "_model_name": "LayoutModel",
      "_view_count": null,
      "_view_module": "@jupyter-widgets/base",
      "_view_module_version": "1.2.0",
      "_view_name": "LayoutView",
      "align_content": null,
      "align_items": null,
      "align_self": null,
      "border": null,
      "bottom": null,
      "display": null,
      "flex": null,
      "flex_flow": null,
      "grid_area": null,
      "grid_auto_columns": null,
      "grid_auto_flow": null,
      "grid_auto_rows": null,
      "grid_column": null,
      "grid_gap": null,
      "grid_row": null,
      "grid_template_areas": null,
      "grid_template_columns": null,
      "grid_template_rows": null,
      "height": null,
      "justify_content": null,
      "justify_items": null,
      "left": null,
      "margin": null,
      "max_height": null,
      "max_width": null,
      "min_height": null,
      "min_width": null,
      "object_fit": null,
      "object_position": null,
      "order": null,
      "overflow": null,
      "overflow_x": null,
      "overflow_y": null,
      "padding": null,
      "right": null,
      "top": null,
      "visibility": null,
      "width": null
     }
    },
    "5d4f6456c7064aacb9692032799d4f27": {
     "model_module": "@jupyter-widgets/controls",
     "model_name": "ProgressStyleModel",
     "state": {
      "_model_module": "@jupyter-widgets/controls",
      "_model_module_version": "1.5.0",
      "_model_name": "ProgressStyleModel",
      "_view_count": null,
      "_view_module": "@jupyter-widgets/base",
      "_view_module_version": "1.2.0",
      "_view_name": "StyleView",
      "bar_color": null,
      "description_width": "initial"
     }
    },
    "6c7b4f9b82294d4b9dbc3e287013c022": {
     "model_module": "@jupyter-widgets/controls",
     "model_name": "DescriptionStyleModel",
     "state": {
      "_model_module": "@jupyter-widgets/controls",
      "_model_module_version": "1.5.0",
      "_model_name": "DescriptionStyleModel",
      "_view_count": null,
      "_view_module": "@jupyter-widgets/base",
      "_view_module_version": "1.2.0",
      "_view_name": "StyleView",
      "description_width": ""
     }
    },
    "9ce0e20277ca496f96efde54139894ac": {
     "model_module": "@jupyter-widgets/base",
     "model_name": "LayoutModel",
     "state": {
      "_model_module": "@jupyter-widgets/base",
      "_model_module_version": "1.2.0",
      "_model_name": "LayoutModel",
      "_view_count": null,
      "_view_module": "@jupyter-widgets/base",
      "_view_module_version": "1.2.0",
      "_view_name": "LayoutView",
      "align_content": null,
      "align_items": null,
      "align_self": null,
      "border": null,
      "bottom": null,
      "display": null,
      "flex": null,
      "flex_flow": null,
      "grid_area": null,
      "grid_auto_columns": null,
      "grid_auto_flow": null,
      "grid_auto_rows": null,
      "grid_column": null,
      "grid_gap": null,
      "grid_row": null,
      "grid_template_areas": null,
      "grid_template_columns": null,
      "grid_template_rows": null,
      "height": null,
      "justify_content": null,
      "justify_items": null,
      "left": null,
      "margin": null,
      "max_height": null,
      "max_width": null,
      "min_height": null,
      "min_width": null,
      "object_fit": null,
      "object_position": null,
      "order": null,
      "overflow": null,
      "overflow_x": null,
      "overflow_y": null,
      "padding": null,
      "right": null,
      "top": null,
      "visibility": null,
      "width": null
     }
    },
    "ff84cd630b36401f9de8cd294828f47c": {
     "model_module": "@jupyter-widgets/controls",
     "model_name": "HBoxModel",
     "state": {
      "_dom_classes": [],
      "_model_module": "@jupyter-widgets/controls",
      "_model_module_version": "1.5.0",
      "_model_name": "HBoxModel",
      "_view_count": null,
      "_view_module": "@jupyter-widgets/controls",
      "_view_module_version": "1.5.0",
      "_view_name": "HBoxView",
      "box_style": "",
      "children": [
       "IPY_MODEL_212a9c9ca0ec4e95a5216fc983b8a0de",
       "IPY_MODEL_24033c6a3e4a4723994f7455db988db0"
      ],
      "layout": "IPY_MODEL_9ce0e20277ca496f96efde54139894ac"
     }
    }
   }
  }
 },
 "nbformat": 4,
 "nbformat_minor": 4
}
